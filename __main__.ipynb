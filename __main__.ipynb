{
 "cells": [
  {
   "cell_type": "code",
   "execution_count": 1,
   "metadata": {},
   "outputs": [],
   "source": [
    "import numpy as np\n",
    "import pandas as pd\n",
    "\n",
    "import geopandas as gpd\n",
    "import shapely"
   ]
  },
  {
   "cell_type": "code",
   "execution_count": 2,
   "metadata": {},
   "outputs": [],
   "source": [
    "file_path = \"./data/BND_ADM_DONG_PG.shp\""
   ]
  },
  {
   "cell_type": "code",
   "execution_count": 3,
   "metadata": {},
   "outputs": [],
   "source": [
    "gdf = gpd.read_file(file_path,encoding='cp949')\n",
    "gdf_latlng = gdf.to_crs(epsg=4326)"
   ]
  },
  {
   "cell_type": "code",
   "execution_count": 4,
   "metadata": {},
   "outputs": [],
   "source": [
    "polygon2coords = lambda poligon: poligon.exterior.coords\n",
    "\n",
    "coords2lng = lambda coords: list(map(lambda coord: coord[0], coords))\n",
    "coords2lat = lambda coords: list(map(lambda coord: coord[1], coords))"
   ]
  },
  {
   "cell_type": "code",
   "execution_count": 5,
   "metadata": {},
   "outputs": [],
   "source": [
    "df = pd.DataFrame(gdf_latlng)"
   ]
  },
  {
   "cell_type": "code",
   "execution_count": 6,
   "metadata": {},
   "outputs": [
    {
     "data": {
      "text/plain": [
       "[shapely.geometry.multipolygon.MultiPolygon, shapely.geometry.polygon.Polygon]"
      ]
     },
     "execution_count": 6,
     "metadata": {},
     "output_type": "execute_result"
    }
   ],
   "source": [
    "geometry_types = list(set(df['geometry'].apply(lambda x : type(x))))\n",
    "geometry_types"
   ]
  },
  {
   "cell_type": "code",
   "execution_count": 7,
   "metadata": {},
   "outputs": [],
   "source": [
    "def multipolygon2polygon(poligon):\n",
    "    if type(poligon) == shapely.geometry.polygon.Polygon:\n",
    "        return poligon\n",
    "    elif type(poligon) == shapely.geometry.multipolygon.MultiPolygon:\n",
    "        return max(poligon.geoms, key=lambda p: p.area)\n",
    "    else:\n",
    "        return None"
   ]
  },
  {
   "cell_type": "code",
   "execution_count": 8,
   "metadata": {},
   "outputs": [],
   "source": [
    "df['geometry'] = df['geometry'].apply(lambda x : multipolygon2polygon(x))"
   ]
  },
  {
   "cell_type": "code",
   "execution_count": 9,
   "metadata": {},
   "outputs": [
    {
     "data": {
      "text/html": [
       "<div>\n",
       "<style scoped>\n",
       "    .dataframe tbody tr th:only-of-type {\n",
       "        vertical-align: middle;\n",
       "    }\n",
       "\n",
       "    .dataframe tbody tr th {\n",
       "        vertical-align: top;\n",
       "    }\n",
       "\n",
       "    .dataframe thead th {\n",
       "        text-align: right;\n",
       "    }\n",
       "</style>\n",
       "<table border=\"1\" class=\"dataframe\">\n",
       "  <thead>\n",
       "    <tr style=\"text-align: right;\">\n",
       "      <th></th>\n",
       "      <th>BASE_DATE</th>\n",
       "      <th>ADM_NM</th>\n",
       "      <th>ADM_CD</th>\n",
       "      <th>lat</th>\n",
       "      <th>lng</th>\n",
       "    </tr>\n",
       "  </thead>\n",
       "  <tbody>\n",
       "    <tr>\n",
       "      <th>0</th>\n",
       "      <td>20230701</td>\n",
       "      <td>사직동</td>\n",
       "      <td>11010530</td>\n",
       "      <td>37.573599</td>\n",
       "      <td>126.970017</td>\n",
       "    </tr>\n",
       "    <tr>\n",
       "      <th>1</th>\n",
       "      <td>20230701</td>\n",
       "      <td>삼청동</td>\n",
       "      <td>11010540</td>\n",
       "      <td>37.584574</td>\n",
       "      <td>126.981997</td>\n",
       "    </tr>\n",
       "    <tr>\n",
       "      <th>2</th>\n",
       "      <td>20230701</td>\n",
       "      <td>부암동</td>\n",
       "      <td>11010550</td>\n",
       "      <td>37.599156</td>\n",
       "      <td>126.962802</td>\n",
       "    </tr>\n",
       "    <tr>\n",
       "      <th>3</th>\n",
       "      <td>20230701</td>\n",
       "      <td>평창동</td>\n",
       "      <td>11010560</td>\n",
       "      <td>37.608381</td>\n",
       "      <td>126.965929</td>\n",
       "    </tr>\n",
       "    <tr>\n",
       "      <th>4</th>\n",
       "      <td>20230701</td>\n",
       "      <td>한남동</td>\n",
       "      <td>11030740</td>\n",
       "      <td>37.536131</td>\n",
       "      <td>127.004701</td>\n",
       "    </tr>\n",
       "  </tbody>\n",
       "</table>\n",
       "</div>"
      ],
      "text/plain": [
       "  BASE_DATE ADM_NM    ADM_CD        lat         lng\n",
       "0  20230701    사직동  11010530  37.573599  126.970017\n",
       "1  20230701    삼청동  11010540  37.584574  126.981997\n",
       "2  20230701    부암동  11010550  37.599156  126.962802\n",
       "3  20230701    평창동  11010560  37.608381  126.965929\n",
       "4  20230701    한남동  11030740  37.536131  127.004701"
      ]
     },
     "execution_count": 9,
     "metadata": {},
     "output_type": "execute_result"
    }
   ],
   "source": [
    "mean_coord_df = pd.concat(\n",
    "    [\n",
    "        df.drop(columns=[\"geometry\"]),\n",
    "        df[\"geometry\"]\n",
    "        .apply(\n",
    "            lambda x: {\n",
    "                \"lat\": np.mean(coords2lat(polygon2coords(x))),\n",
    "                \"lng\": np.mean(coords2lng(polygon2coords(x))),\n",
    "            }\n",
    "        )\n",
    "        .apply(pd.Series),\n",
    "    ],\n",
    "    axis=1,\n",
    ")\n",
    "\n",
    "mean_coord_df.head()"
   ]
  },
  {
   "cell_type": "code",
   "execution_count": 10,
   "metadata": {},
   "outputs": [],
   "source": [
    "mean_coord_df.to_csv(\"./mean_coord_df.csv\")"
   ]
  }
 ],
 "metadata": {
  "kernelspec": {
   "display_name": "quant_trading",
   "language": "python",
   "name": "python3"
  },
  "language_info": {
   "codemirror_mode": {
    "name": "ipython",
    "version": 3
   },
   "file_extension": ".py",
   "mimetype": "text/x-python",
   "name": "python",
   "nbconvert_exporter": "python",
   "pygments_lexer": "ipython3",
   "version": "3.10.13"
  }
 },
 "nbformat": 4,
 "nbformat_minor": 2
}
